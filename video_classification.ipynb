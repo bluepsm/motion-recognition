{
  "cells": [
    {
      "cell_type": "code",
      "execution_count": 5,
      "metadata": {},
      "outputs": [],
      "source": [
        "import os\n",
        "import cv2\n",
        "import random\n",
        "import numpy as np\n",
        "import pandas as pd\n",
        "import seaborn as sns\n",
        "import datetime as dt\n",
        "import tensorflow as tf\n",
        "import matplotlib.pyplot as plt\n",
        " \n",
        "from sklearn.model_selection import train_test_split\n",
        "from sklearn.metrics import confusion_matrix, classification_report\n",
        "from tensorflow.keras.layers import *\n",
        "from tensorflow.keras.models import Sequential\n",
        "from tensorflow.keras.utils import to_categorical, plot_model\n",
        "from tensorflow.keras.callbacks import EarlyStopping"
      ]
    },
    {
      "cell_type": "markdown",
      "metadata": {},
      "source": [
        "# Random seed"
      ]
    },
    {
      "cell_type": "code",
      "execution_count": 223,
      "metadata": {},
      "outputs": [],
      "source": [
        "random_seed = 23\n",
        "np.random.seed(random_seed)\n",
        "random.seed(random_seed)\n",
        "tf.random.set_seed(random_seed)"
      ]
    },
    {
      "cell_type": "markdown",
      "metadata": {},
      "source": [
        "# Set frame dimensions"
      ]
    },
    {
      "cell_type": "code",
      "execution_count": 224,
      "metadata": {},
      "outputs": [],
      "source": [
        "frame_height, frame_width = 32, 32\n",
        "max_frame_per_class = 5500"
      ]
    },
    {
      "cell_type": "markdown",
      "metadata": {},
      "source": [
        "# Dataset specify"
      ]
    },
    {
      "cell_type": "code",
      "execution_count": 7,
      "metadata": {},
      "outputs": [],
      "source": [
        "dataset_directory = \"dataset/videos/Set 2\"\n",
        "classes_list = [\"Idle\", \"Back cleaning\", \"Screen cleaning\", \"Applying screen protector\", \"Checking back side\"]"
      ]
    },
    {
      "cell_type": "code",
      "execution_count": 8,
      "metadata": {},
      "outputs": [],
      "source": [
        "model_output_size = len(classes_list)"
      ]
    },
    {
      "cell_type": "markdown",
      "metadata": {},
      "source": [
        "# Create dataset"
      ]
    },
    {
      "cell_type": "code",
      "execution_count": 227,
      "metadata": {},
      "outputs": [],
      "source": [
        "# Declaring Empty Lists to store the features and labels values.\n",
        "temp_features = [] \n",
        "features = []\n",
        "labels = []"
      ]
    },
    {
      "cell_type": "code",
      "execution_count": 228,
      "metadata": {},
      "outputs": [],
      "source": [
        "def frames_extraction(video_path):\n",
        "    # Empty List declared to store video frames\n",
        "    frames_list = []\n",
        "    \n",
        "    # Reading the Video File Using the VideoCapture\n",
        "    video_reader = cv2.VideoCapture(video_path)\n",
        "\n",
        "    # Iterating through Video Frames\n",
        "    while True:\n",
        "\n",
        "        # Reading a frame from the video file \n",
        "        success, frame = video_reader.read() \n",
        "\n",
        "        # If Video frame was not successfully read then break the loop\n",
        "        if not success:\n",
        "            break\n",
        "\n",
        "        # Resize the Frame to fixed Dimensions\n",
        "        resized_frame = cv2.resize(frame, (frame_height, frame_width))\n",
        "        \n",
        "        # Normalize the resized frame by dividing it with 255 so that each pixel value then lies between 0 and 1\n",
        "        normalized_frame = resized_frame / 255\n",
        "        \n",
        "        # Appending the normalized frame into the frames list\n",
        "        frames_list.append(normalized_frame)\n",
        "    \n",
        "    # Closing the VideoCapture object and releasing all resources. \n",
        "    video_reader.release()\n",
        "\n",
        "    # returning the frames list \n",
        "    return frames_list"
      ]
    },
    {
      "cell_type": "code",
      "execution_count": 229,
      "metadata": {},
      "outputs": [
        {
          "name": "stdout",
          "output_type": "stream",
          "text": [
            "Extracting Data of Class: Idle\n",
            "Extracting Data of Class: Back cleaning\n",
            "Extracting Data of Class: Screen cleaning\n",
            "Extracting Data of Class: Applying screen protector\n",
            "Extracting Data of Class: Checking back side\n"
          ]
        }
      ],
      "source": [
        "# Iterating through all the classes mentioned in the classes list\n",
        "for class_index, class_name in enumerate(classes_list):\n",
        "    print(f'Extracting Data of Class: {class_name}')\n",
        "    \n",
        "    # Getting the list of video files present in the specific class name directory\n",
        "    files_list = os.listdir(os.path.join(dataset_directory, class_name))\n",
        "\n",
        "    # Iterating through all the files present in the files list\n",
        "    for file_name in files_list:\n",
        "\n",
        "        # Construct the complete video path\n",
        "        video_file_path = os.path.join(dataset_directory, class_name, file_name)\n",
        "\n",
        "        # Calling the frame_extraction method for every video file path\n",
        "        frames = frames_extraction(video_file_path)\n",
        "\n",
        "        # Appending the frames to a temporary list.\n",
        "        temp_features.extend(frames)\n",
        "    \n",
        "    # Adding randomly selected frames to the features list\n",
        "    features.extend(random.sample(temp_features, max_frame_per_class))\n",
        "\n",
        "    # Adding Fixed number of labels to the labels list\n",
        "    labels.extend([class_index] * max_frame_per_class)\n",
        "    \n",
        "    # Emptying the temp_features list so it can be reused to store all frames of the next class.\n",
        "    temp_features.clear()\n",
        "\n",
        "# Converting the features and labels lists to numpy arrays\n",
        "features = np.asarray(features)\n",
        "labels = np.array(labels)"
      ]
    },
    {
      "cell_type": "markdown",
      "metadata": {},
      "source": [
        "# Convert labels into one-hot-encoded vectors"
      ]
    },
    {
      "cell_type": "code",
      "execution_count": 230,
      "metadata": {},
      "outputs": [],
      "source": [
        "one_hot_encoded_labels = to_categorical(labels)"
      ]
    },
    {
      "cell_type": "code",
      "execution_count": 231,
      "metadata": {},
      "outputs": [],
      "source": [
        "features_train, features_test, labels_train, labels_test = train_test_split(features, one_hot_encoded_labels, test_size = 0.2, shuffle = True, random_state = random_seed)"
      ]
    },
    {
      "cell_type": "markdown",
      "metadata": {},
      "source": [
        "# Create model"
      ]
    },
    {
      "cell_type": "code",
      "execution_count": 9,
      "metadata": {},
      "outputs": [
        {
          "name": "stdout",
          "output_type": "stream",
          "text": [
            "<keras.engine.sequential.Sequential object at 0x000001A1540B0C40>\n"
          ]
        }
      ],
      "source": [
        "# We will use a Sequential model for model construction\n",
        "model = Sequential()\n",
        "\n",
        "# Defining The Model Architecture\n",
        "model.add(Conv2D(filters = 32, kernel_size = (2, 2), activation = 'relu', input_shape = (frame_height, frame_width, 3)))\n",
        "model.add(Conv2D(filters = 32, kernel_size = (2, 2), activation = 'relu'))\n",
        "model.add(BatchNormalization())\n",
        "model.add(MaxPooling2D(pool_size = (2, 2)))\n",
        "model.add(GlobalAveragePooling2D())\n",
        "model.add(Dense(256, activation = 'relu'))\n",
        "model.add(BatchNormalization())\n",
        "model.add(Dense(model_output_size, activation = 'softmax'))"
      ]
    },
    {
      "cell_type": "code",
      "execution_count": 233,
      "metadata": {},
      "outputs": [
        {
          "name": "stdout",
          "output_type": "stream",
          "text": [
            "Model: \"sequential_5\"\n",
            "_________________________________________________________________\n",
            " Layer (type)                Output Shape              Param #   \n",
            "=================================================================\n",
            " conv2d_10 (Conv2D)          (None, 31, 31, 32)        416       \n",
            "                                                                 \n",
            " conv2d_11 (Conv2D)          (None, 30, 30, 32)        4128      \n",
            "                                                                 \n",
            " batch_normalization_10 (Bat  (None, 30, 30, 32)       128       \n",
            " chNormalization)                                                \n",
            "                                                                 \n",
            " max_pooling2d_5 (MaxPooling  (None, 15, 15, 32)       0         \n",
            " 2D)                                                             \n",
            "                                                                 \n",
            " global_average_pooling2d_5   (None, 32)               0         \n",
            " (GlobalAveragePooling2D)                                        \n",
            "                                                                 \n",
            " dense_10 (Dense)            (None, 256)               8448      \n",
            "                                                                 \n",
            " batch_normalization_11 (Bat  (None, 256)              1024      \n",
            " chNormalization)                                                \n",
            "                                                                 \n",
            " dense_11 (Dense)            (None, 5)                 1285      \n",
            "                                                                 \n",
            "=================================================================\n",
            "Total params: 15,429\n",
            "Trainable params: 14,853\n",
            "Non-trainable params: 576\n",
            "_________________________________________________________________\n"
          ]
        }
      ],
      "source": [
        "# Printing the models summary\n",
        "model.summary()"
      ]
    },
    {
      "cell_type": "code",
      "execution_count": 234,
      "metadata": {},
      "outputs": [
        {
          "data": {
            "image/png": "[encoded data removed]",
            "text/plain": [
              "<IPython.core.display.Image object>"
            ]
          },
          "execution_count": 234,
          "metadata": {},
          "output_type": "execute_result"
        }
      ],
      "source": [
        "# Plot model\n",
        "plot_model(model, to_file = 'video_model_structure_plot.png', show_shapes = True, show_layer_names = True)"
      ]
    },
    {
      "cell_type": "markdown",
      "metadata": {},
      "source": [
        "# Model optimizing"
      ]
    },
    {
      "cell_type": "code",
      "execution_count": 235,
      "metadata": {},
      "outputs": [],
      "source": [
        "# Adding Early Stopping Callback\n",
        "early_stopping_callback = EarlyStopping(monitor = 'val_loss', patience = 15, mode = 'min', restore_best_weights = True)"
      ]
    },
    {
      "cell_type": "code",
      "execution_count": 236,
      "metadata": {},
      "outputs": [],
      "source": [
        "# Adding loss, optimizer and metrics values to the model.\n",
        "model.compile(loss = 'categorical_crossentropy', optimizer = 'Adam', metrics = [\"accuracy\"])"
      ]
    },
    {
      "cell_type": "markdown",
      "metadata": {},
      "source": [
        "# Model training"
      ]
    },
    {
      "cell_type": "code",
      "execution_count": 237,
      "metadata": {},
      "outputs": [
        {
          "name": "stdout",
          "output_type": "stream",
          "text": [
            "Epoch 1/100\n",
            "4400/4400 [==============================] - 31s 7ms/step - loss: 0.7092 - accuracy: 0.7442 - val_loss: 0.4229 - val_accuracy: 0.8473\n",
            "Epoch 2/100\n",
            "4400/4400 [==============================] - 30s 7ms/step - loss: 0.4010 - accuracy: 0.8671 - val_loss: 0.3860 - val_accuracy: 0.8723\n",
            "Epoch 3/100\n",
            "4400/4400 [==============================] - 30s 7ms/step - loss: 0.3197 - accuracy: 0.8952 - val_loss: 0.3728 - val_accuracy: 0.8682\n",
            "Epoch 4/100\n",
            "4400/4400 [==============================] - 30s 7ms/step - loss: 0.2799 - accuracy: 0.9105 - val_loss: 0.1235 - val_accuracy: 0.9698\n",
            "Epoch 5/100\n",
            "4400/4400 [==============================] - 26s 6ms/step - loss: 0.2456 - accuracy: 0.9232 - val_loss: 0.1069 - val_accuracy: 0.9659\n",
            "Epoch 6/100\n",
            "4400/4400 [==============================] - 25s 6ms/step - loss: 0.2179 - accuracy: 0.9314 - val_loss: 0.1380 - val_accuracy: 0.9586\n",
            "Epoch 7/100\n",
            "4400/4400 [==============================] - 28s 6ms/step - loss: 0.1966 - accuracy: 0.9418 - val_loss: 0.2690 - val_accuracy: 0.9366\n",
            "Epoch 8/100\n",
            "4400/4400 [==============================] - 25s 6ms/step - loss: 0.1794 - accuracy: 0.9449 - val_loss: 0.2109 - val_accuracy: 0.9427\n",
            "Epoch 9/100\n",
            "4400/4400 [==============================] - 26s 6ms/step - loss: 0.1779 - accuracy: 0.9474 - val_loss: 0.0675 - val_accuracy: 0.9814\n",
            "Epoch 10/100\n",
            "4400/4400 [==============================] - 26s 6ms/step - loss: 0.1686 - accuracy: 0.9491 - val_loss: 0.2712 - val_accuracy: 0.9332\n",
            "Epoch 11/100\n",
            "4400/4400 [==============================] - 29s 7ms/step - loss: 0.1629 - accuracy: 0.9502 - val_loss: 0.0770 - val_accuracy: 0.9791\n",
            "Epoch 12/100\n",
            "4400/4400 [==============================] - 30s 7ms/step - loss: 0.1630 - accuracy: 0.9522 - val_loss: 0.0937 - val_accuracy: 0.9759\n",
            "Epoch 13/100\n",
            "4400/4400 [==============================] - 26s 6ms/step - loss: 0.1413 - accuracy: 0.9577 - val_loss: 1.6634 - val_accuracy: 0.7825\n",
            "Epoch 14/100\n",
            "4400/4400 [==============================] - 29s 7ms/step - loss: 0.1502 - accuracy: 0.9555 - val_loss: 0.1827 - val_accuracy: 0.9739\n",
            "Epoch 15/100\n",
            "4400/4400 [==============================] - 30s 7ms/step - loss: 0.1427 - accuracy: 0.9570 - val_loss: 0.2584 - val_accuracy: 0.9423\n",
            "Epoch 16/100\n",
            "4400/4400 [==============================] - 30s 7ms/step - loss: 0.1493 - accuracy: 0.9552 - val_loss: 0.4730 - val_accuracy: 0.8709\n",
            "Epoch 17/100\n",
            "4400/4400 [==============================] - 30s 7ms/step - loss: 0.1383 - accuracy: 0.9597 - val_loss: 0.5471 - val_accuracy: 0.8961\n",
            "Epoch 18/100\n",
            "4400/4400 [==============================] - 31s 7ms/step - loss: 0.1266 - accuracy: 0.9609 - val_loss: 0.1419 - val_accuracy: 0.9761\n",
            "Epoch 19/100\n",
            "4400/4400 [==============================] - 30s 7ms/step - loss: 0.1295 - accuracy: 0.9615 - val_loss: 0.1107 - val_accuracy: 0.9800\n",
            "Epoch 20/100\n",
            "4400/4400 [==============================] - 30s 7ms/step - loss: 0.1388 - accuracy: 0.9612 - val_loss: 0.2253 - val_accuracy: 0.9552\n",
            "Epoch 21/100\n",
            "4400/4400 [==============================] - 28s 6ms/step - loss: 0.1283 - accuracy: 0.9634 - val_loss: 1.7646 - val_accuracy: 0.8136\n",
            "Epoch 22/100\n",
            "4400/4400 [==============================] - 26s 6ms/step - loss: 0.1309 - accuracy: 0.9607 - val_loss: 0.1217 - val_accuracy: 0.9834\n",
            "Epoch 23/100\n",
            "4400/4400 [==============================] - 26s 6ms/step - loss: 0.1186 - accuracy: 0.9656 - val_loss: 0.1598 - val_accuracy: 0.9673\n",
            "Epoch 24/100\n",
            "4400/4400 [==============================] - 26s 6ms/step - loss: 0.1270 - accuracy: 0.9623 - val_loss: 0.1117 - val_accuracy: 0.9777\n"
          ]
        }
      ],
      "source": [
        "\n",
        "model_training_history = model.fit(x = features_train, y = labels_train, epochs = 100, batch_size = 4 , shuffle = True, validation_split = 0.2, callbacks = [early_stopping_callback])"
      ]
    },
    {
      "cell_type": "code",
      "execution_count": 238,
      "metadata": {},
      "outputs": [
        {
          "name": "stdout",
          "output_type": "stream",
          "text": [
            "172/172 [==============================] - 1s 4ms/step - loss: 0.0873 - accuracy: 0.9762\n"
          ]
        }
      ],
      "source": [
        "model_evaluation_history = model.evaluate(features_test, labels_test)"
      ]
    },
    {
      "cell_type": "markdown",
      "metadata": {},
      "source": [
        "# Save model"
      ]
    },
    {
      "cell_type": "code",
      "execution_count": 239,
      "metadata": {},
      "outputs": [],
      "source": [
        "# Creating a useful name for our model, incase you're saving multiple models (OPTIONAL)\n",
        "date_time_format = '%Y_%m_%d__%H_%M_%S'\n",
        "current_date_time_dt = dt.datetime.now()\n",
        "current_date_time_string = dt.datetime.strftime(current_date_time_dt, date_time_format)\n",
        "model_evaluation_loss, model_evaluation_accuracy = model_evaluation_history\n",
        "model_name = f'dataset/videos/Set 2/Model_Video_Date-{current_date_time_string}_Loss-{model_evaluation_loss}_Accuracy-{model_evaluation_accuracy}.h5'\n",
        "tflite_save_path = f'dataset/videos/Set 2/Model_Video_Date-{current_date_time_string}_Loss-{model_evaluation_loss}_Accuracy-{model_evaluation_accuracy}.tflite'"
      ]
    },
    {
      "cell_type": "code",
      "execution_count": 240,
      "metadata": {},
      "outputs": [],
      "source": [
        "# Saving your Model\n",
        "model.save(model_name)"
      ]
    },
    {
      "cell_type": "markdown",
      "metadata": {},
      "source": [
        "# Plot Model’s Loss and Accuracy Curves"
      ]
    },
    {
      "cell_type": "code",
      "execution_count": 241,
      "metadata": {},
      "outputs": [],
      "source": [
        "def plot_metric(metric_name_1, metric_name_2, plot_name):\n",
        "    # Get Metric values using metric names as identifiers\n",
        "    metric_value_1 = model_training_history.history[metric_name_1]\n",
        "    metric_value_2 = model_training_history.history[metric_name_2]\n",
        "\n",
        "    # Constructing a range object which will be used as time \n",
        "    epochs = range(len(metric_value_1))\n",
        "    \n",
        "    # Plotting the Graph\n",
        "    plt.plot(epochs, metric_value_1, 'blue', label = metric_name_1)\n",
        "    plt.plot(epochs, metric_value_2, 'red', label = metric_name_2)\n",
        "    \n",
        "    # Adding title to the plot\n",
        "    plt.title(str(plot_name))\n",
        "\n",
        "    # Adding legend to the plot\n",
        "    plt.legend()"
      ]
    },
    {
      "cell_type": "code",
      "execution_count": 242,
      "metadata": {},
      "outputs": [
        {
          "data": {
            "image/png": "[encoded data removed]",
            "text/plain": [
              "<Figure size 432x288 with 1 Axes>"
            ]
          },
          "metadata": {
            "needs_background": "light"
          },
          "output_type": "display_data"
        }
      ],
      "source": [
        "# Loss\n",
        "plot_metric('loss', 'val_loss', 'Total Loss vs Total Validation Loss')"
      ]
    },
    {
      "cell_type": "code",
      "execution_count": 243,
      "metadata": {},
      "outputs": [
        {
          "data": {
            "image/png": "[encoded data removed]",
            "text/plain": [
              "<Figure size 432x288 with 1 Axes>"
            ]
          },
          "metadata": {
            "needs_background": "light"
          },
          "output_type": "display_data"
        }
      ],
      "source": [
        "# Accuracy\n",
        "plot_metric('accuracy', 'val_accuracy', 'Total Accuracy vs Total Validation Accuracy')"
      ]
    },
    {
      "cell_type": "markdown",
      "metadata": {},
      "source": [
        "# Load model"
      ]
    },
    {
      "cell_type": "code",
      "execution_count": 244,
      "metadata": {},
      "outputs": [],
      "source": [
        "# Loading the saved model\n",
        "model = tf.keras.models.load_model(model_name)"
      ]
    },
    {
      "cell_type": "code",
      "execution_count": 245,
      "metadata": {},
      "outputs": [
        {
          "name": "stdout",
          "output_type": "stream",
          "text": [
            "WARNING:tensorflow:6 out of the last 14 calls to <function Model.make_predict_function.<locals>.predict_function at 0x000001894CAF0430> triggered tf.function retracing. Tracing is expensive and the excessive number of tracings could be due to (1) creating @tf.function repeatedly in a loop, (2) passing tensors with different shapes, (3) passing Python objects instead of tensors. For (1), please define your @tf.function outside of the loop. For (2), @tf.function has experimental_relax_shapes=True option that relaxes argument shapes that can avoid unnecessary retracing. For (3), please refer to https://www.tensorflow.org/guide/function#controlling_retracing and https://www.tensorflow.org/api_docs/python/tf/function for  more details.\n"
          ]
        },
        {
          "name": "stderr",
          "output_type": "stream",
          "text": [
            "WARNING:tensorflow:6 out of the last 14 calls to <function Model.make_predict_function.<locals>.predict_function at 0x000001894CAF0430> triggered tf.function retracing. Tracing is expensive and the excessive number of tracings could be due to (1) creating @tf.function repeatedly in a loop, (2) passing tensors with different shapes, (3) passing Python objects instead of tensors. For (1), please define your @tf.function outside of the loop. For (2), @tf.function has experimental_relax_shapes=True option that relaxes argument shapes that can avoid unnecessary retracing. For (3), please refer to https://www.tensorflow.org/guide/function#controlling_retracing and https://www.tensorflow.org/api_docs/python/tf/function for  more details.\n"
          ]
        },
        {
          "name": "stdout",
          "output_type": "stream",
          "text": [
            "[1.4970226e-04 2.3654367e-13 6.8400987e-14 9.9973077e-01 1.1955582e-04]\n",
            "3\n"
          ]
        }
      ],
      "source": [
        "# Inference test\n",
        "predict_result = model.predict(np.array([features_test[0]]))\n",
        "print(np.squeeze(predict_result))\n",
        "print(np.argmax(np.squeeze(predict_result)))"
      ]
    },
    {
      "cell_type": "markdown",
      "metadata": {},
      "source": [
        "# Convert to model for Tensorflow-Lite"
      ]
    },
    {
      "cell_type": "code",
      "execution_count": 246,
      "metadata": {},
      "outputs": [
        {
          "name": "stdout",
          "output_type": "stream",
          "text": [
            "INFO:tensorflow:Assets written to: C:\\Users\\sttbeng\\AppData\\Local\\Temp\\tmp4me975lv\\assets\n"
          ]
        },
        {
          "name": "stderr",
          "output_type": "stream",
          "text": [
            "INFO:tensorflow:Assets written to: C:\\Users\\sttbeng\\AppData\\Local\\Temp\\tmp4me975lv\\assets\n",
            "WARNING:absl:Buffer deduplication procedure will be skipped when flatbuffer library is not properly loaded\n"
          ]
        },
        {
          "data": {
            "text/plain": [
              "21568"
            ]
          },
          "execution_count": 246,
          "metadata": {},
          "output_type": "execute_result"
        }
      ],
      "source": [
        "# Transform model (quantization)\n",
        "converter = tf.lite.TFLiteConverter.from_keras_model(model)\n",
        "converter.optimizations = [tf.lite.Optimize.DEFAULT]\n",
        "tflite_quantized_model = converter.convert()\n",
        "\n",
        "open(tflite_save_path, 'wb').write(tflite_quantized_model)"
      ]
    },
    {
      "cell_type": "markdown",
      "metadata": {
        "id": "CHBPBXdx9hE6"
      },
      "source": [
        "# Inference test"
      ]
    },
    {
      "cell_type": "code",
      "execution_count": 247,
      "metadata": {},
      "outputs": [],
      "source": [
        "interpreter = tf.lite.Interpreter(model_path=tflite_save_path)\n",
        "interpreter.allocate_tensors()"
      ]
    },
    {
      "cell_type": "code",
      "execution_count": 248,
      "metadata": {},
      "outputs": [],
      "source": [
        "# Get I / O tensor\n",
        "input_details = interpreter.get_input_details()\n",
        "output_details = interpreter.get_output_details()"
      ]
    },
    {
      "cell_type": "code",
      "execution_count": 249,
      "metadata": {},
      "outputs": [],
      "source": [
        "interpreter.set_tensor(input_details[0]['index'], np.array([features_test[0]], dtype=np.float32))"
      ]
    },
    {
      "cell_type": "code",
      "execution_count": 250,
      "metadata": {},
      "outputs": [
        {
          "name": "stdout",
          "output_type": "stream",
          "text": [
            "CPU times: total: 31.2 ms\n",
            "Wall time: 27.9 ms\n"
          ]
        }
      ],
      "source": [
        "%%time\n",
        "# Inference implementation\n",
        "interpreter.invoke()\n",
        "tflite_results = interpreter.get_tensor(output_details[0]['index'])"
      ]
    },
    {
      "cell_type": "code",
      "execution_count": 251,
      "metadata": {},
      "outputs": [
        {
          "name": "stdout",
          "output_type": "stream",
          "text": [
            "[1.5277615e-04 3.7294286e-13 5.9596527e-14 9.9969912e-01 1.4814649e-04]\n",
            "3\n"
          ]
        }
      ],
      "source": [
        "print(np.squeeze(tflite_results))\n",
        "print(np.argmax(np.squeeze(tflite_results)))"
      ]
    }
  ],
  "metadata": {
    "accelerator": "GPU",
    "colab": {
      "collapsed_sections": [],
      "name": "keypoint_classification_EN.ipynb",
      "provenance": [],
      "toc_visible": true
    },
    "interpreter": {
      "hash": "1ef5362c2ab4a6c9511ebb600e44319d4279cf9f50e4b7843b6793e4fc9742a5"
    },
    "kernelspec": {
      "display_name": "Python 3.10.4 64-bit",
      "language": "python",
      "name": "python3"
    },
    "language_info": {
      "codemirror_mode": {
        "name": "ipython",
        "version": 3
      },
      "file_extension": ".py",
      "mimetype": "text/x-python",
      "name": "python",
      "nbconvert_exporter": "python",
      "pygments_lexer": "ipython3",
      "version": "3.10.4"
    }
  },
  "nbformat": 4,
  "nbformat_minor": 0
}
